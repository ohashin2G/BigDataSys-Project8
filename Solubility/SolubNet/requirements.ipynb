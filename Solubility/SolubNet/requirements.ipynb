{
 "cells": [
  {
   "cell_type": "markdown",
   "metadata": {},
   "source": [
    "# Setup Project Dependencies"
   ]
  },
  {
   "cell_type": "code",
   "execution_count": 30,
   "metadata": {},
   "outputs": [
    {
     "name": "stdout",
     "output_type": "stream",
     "text": [
      "Python 3.8.18\n"
     ]
    }
   ],
   "source": [
    "!python --version"
   ]
  },
  {
   "cell_type": "code",
   "execution_count": 31,
   "metadata": {},
   "outputs": [
    {
     "name": "stdout",
     "output_type": "stream",
     "text": [
      "Package               Version\n",
      "--------------------- --------\n",
      "asttokens             2.0.5\n",
      "attrs                 23.2.0\n",
      "backcall              0.2.0\n",
      "boto3                 1.34.52\n",
      "botocore              1.34.52\n",
      "certifi               2024.2.2\n",
      "charset-normalizer    3.3.2\n",
      "comm                  0.1.2\n",
      "contourpy             1.1.1\n",
      "cycler                0.12.1\n",
      "debugpy               1.6.7\n",
      "decorator             5.1.1\n",
      "dgl                   1.0.1\n",
      "executing             0.8.3\n",
      "fonttools             4.49.0\n",
      "google-pasta          0.2.0\n",
      "idna                  3.6\n",
      "importlib-metadata    7.0.1\n",
      "importlib_resources   6.1.2\n",
      "ipykernel             6.28.0\n",
      "ipython               8.12.2\n",
      "ipywidgets            8.0.4\n",
      "jedi                  0.18.1\n",
      "jmespath              1.0.1\n",
      "joblib                1.3.2\n",
      "jupyter_client        8.6.0\n",
      "jupyter_core          5.5.0\n",
      "jupyterlab-widgets    3.0.9\n",
      "kiwisolver            1.4.5\n",
      "matplotlib            3.7.5\n",
      "matplotlib-inline     0.1.6\n",
      "nest-asyncio          1.6.0\n",
      "networkx              3.1\n",
      "numpy                 1.24.4\n",
      "packaging             23.1\n",
      "pandas                2.0.3\n",
      "parso                 0.8.3\n",
      "pexpect               4.8.0\n",
      "pickleshare           0.7.5\n",
      "pillow                10.2.0\n",
      "pip                   24.0\n",
      "platformdirs          3.10.0\n",
      "prompt-toolkit        3.0.43\n",
      "protobuf              4.25.3\n",
      "protobuf3-to-dict     0.1.5\n",
      "psutil                5.9.0\n",
      "ptyprocess            0.7.0\n",
      "pure-eval             0.2.2\n",
      "Pygments              2.15.1\n",
      "pyinstrument          4.6.2\n",
      "pyparsing             3.1.1\n",
      "python-dateutil       2.8.2\n",
      "pytz                  2024.1\n",
      "pyzmq                 25.1.2\n",
      "rdkit                 2022.9.5\n",
      "requests              2.31.0\n",
      "s3transfer            0.10.0\n",
      "sagemaker             2.29.0\n",
      "sagemaker-experiments 0.1.26\n",
      "scikit-learn          1.2.2\n",
      "scipy                 1.10.1\n",
      "seaborn               0.10.0\n",
      "setuptools            68.2.2\n",
      "six                   1.16.0\n",
      "smdebug               1.0.1\n",
      "smdebug-rulesconfig   1.0.1\n",
      "stack-data            0.2.0\n",
      "threadpoolctl         3.3.0\n",
      "torch                 1.12.1\n",
      "tornado               6.3.3\n",
      "tqdm                  4.66.2\n",
      "traitlets             5.7.1\n",
      "typing_extensions     4.9.0\n",
      "tzdata                2024.1\n",
      "urllib3               1.26.18\n",
      "wcwidth               0.2.5\n",
      "wheel                 0.41.2\n",
      "widgetsnbextension    4.0.5\n",
      "wrapt                 1.16.0\n",
      "zipp                  3.17.0\n"
     ]
    }
   ],
   "source": [
    "!pip list"
   ]
  },
  {
   "cell_type": "markdown",
   "metadata": {},
   "source": [
    "# Pip"
   ]
  },
  {
   "cell_type": "code",
   "execution_count": 32,
   "metadata": {},
   "outputs": [],
   "source": [
    "!pip install --disable-pip-version-check -q pip --upgrade > /dev/null\n",
    "!pip install --disable-pip-version-check -q wrapt --upgrade > /dev/null"
   ]
  },
  {
   "cell_type": "markdown",
   "metadata": {},
   "source": [
    "# SageMaker "
   ]
  },
  {
   "cell_type": "code",
   "execution_count": 33,
   "metadata": {},
   "outputs": [],
   "source": [
    "!pip install --disable-pip-version-check -q sagemaker==2.29.0\n",
    "!pip install --disable-pip-version-check -q smdebug==1.0.1\n",
    "!pip install --disable-pip-version-check -q sagemaker-experiments==0.1.26"
   ]
  },
  {
   "cell_type": "markdown",
   "metadata": {},
   "source": [
    "# Seaborn"
   ]
  },
  {
   "cell_type": "code",
   "execution_count": 34,
   "metadata": {},
   "outputs": [],
   "source": [
    "!pip install --disable-pip-version-check -q seaborn==0.10.0"
   ]
  },
  {
   "cell_type": "markdown",
   "metadata": {},
   "source": [
    "# SolubNet Specific Installations"
   ]
  },
  {
   "cell_type": "code",
   "execution_count": 35,
   "metadata": {},
   "outputs": [],
   "source": [
    "!pip install --disable-pip-version-check -q  torch==1.12.1\n",
    "!pip install --disable-pip-version-check -q  rdkit==2022.9.5\n",
    "!pip install --disable-pip-version-check -q  scikit-learn==1.2.2\n",
    "!pip install --disable-pip-version-check -q  dgl==1.0.1\n",
    "\n"
   ]
  },
  {
   "cell_type": "code",
   "execution_count": 36,
   "metadata": {},
   "outputs": [
    {
     "name": "stdout",
     "output_type": "stream",
     "text": [
      "Name: torch\n",
      "Version: 1.12.1\n",
      "Summary: Tensors and Dynamic neural networks in Python with strong GPU acceleration\n",
      "Home-page: https://pytorch.org/\n",
      "Author: PyTorch Team\n",
      "Author-email: packages@pytorch.org\n",
      "License: BSD-3\n",
      "Location: /home/sagemaker-user/.conda/envs/solub_net_env/lib/python3.8/site-packages\n",
      "Requires: typing-extensions\n",
      "Required-by: \n",
      "---\n",
      "Name: rdkit\n",
      "Version: 2022.9.5\n",
      "Summary: A collection of chemoinformatics and machine-learning software written in C++ and Python\n",
      "Home-page: https://github.com/kuelumbus/rdkit-pypi\n",
      "Author: Christopher Kuenneth\n",
      "Author-email: chris@kuenneth.dev\n",
      "License: BSD-3-Clause\n",
      "Location: /home/sagemaker-user/.conda/envs/solub_net_env/lib/python3.8/site-packages\n",
      "Requires: numpy, Pillow\n",
      "Required-by: \n",
      "---\n",
      "Name: scikit-learn\n",
      "Version: 1.2.2\n",
      "Summary: A set of python modules for machine learning and data mining\n",
      "Home-page: http://scikit-learn.org\n",
      "Author: \n",
      "Author-email: \n",
      "License: new BSD\n",
      "Location: /home/sagemaker-user/.conda/envs/solub_net_env/lib/python3.8/site-packages\n",
      "Requires: joblib, numpy, scipy, threadpoolctl\n",
      "Required-by: \n",
      "---\n",
      "Name: dgl\n",
      "Version: 1.0.1\n",
      "Summary: Deep Graph Library\n",
      "Home-page: https://github.com/dmlc/dgl\n",
      "Author: \n",
      "Author-email: \n",
      "License: APACHE\n",
      "Location: /home/sagemaker-user/.conda/envs/solub_net_env/lib/python3.8/site-packages\n",
      "Requires: networkx, numpy, psutil, requests, scipy, tqdm\n",
      "Required-by: \n"
     ]
    }
   ],
   "source": [
    "!pip show torch rdkit scikit-learn dgl"
   ]
  },
  {
   "cell_type": "markdown",
   "metadata": {},
   "source": [
    "# Summarize"
   ]
  },
  {
   "cell_type": "code",
   "execution_count": 37,
   "metadata": {},
   "outputs": [
    {
     "name": "stdout",
     "output_type": "stream",
     "text": [
      "Python 3.8.18\n"
     ]
    }
   ],
   "source": [
    "!python --version"
   ]
  },
  {
   "cell_type": "code",
   "execution_count": 38,
   "metadata": {},
   "outputs": [
    {
     "name": "stdout",
     "output_type": "stream",
     "text": [
      "Package               Version\n",
      "--------------------- --------\n",
      "asttokens             2.0.5\n",
      "attrs                 23.2.0\n",
      "backcall              0.2.0\n",
      "boto3                 1.34.52\n",
      "botocore              1.34.52\n",
      "certifi               2024.2.2\n",
      "charset-normalizer    3.3.2\n",
      "comm                  0.1.2\n",
      "contourpy             1.1.1\n",
      "cycler                0.12.1\n",
      "debugpy               1.6.7\n",
      "decorator             5.1.1\n",
      "dgl                   1.0.1\n",
      "executing             0.8.3\n",
      "fonttools             4.49.0\n",
      "google-pasta          0.2.0\n",
      "idna                  3.6\n",
      "importlib-metadata    7.0.1\n",
      "importlib_resources   6.1.2\n",
      "ipykernel             6.28.0\n",
      "ipython               8.12.2\n",
      "ipywidgets            8.0.4\n",
      "jedi                  0.18.1\n",
      "jmespath              1.0.1\n",
      "joblib                1.3.2\n",
      "jupyter_client        8.6.0\n",
      "jupyter_core          5.5.0\n",
      "jupyterlab-widgets    3.0.9\n",
      "kiwisolver            1.4.5\n",
      "matplotlib            3.7.5\n",
      "matplotlib-inline     0.1.6\n",
      "nest-asyncio          1.6.0\n",
      "networkx              3.1\n",
      "numpy                 1.24.4\n",
      "packaging             23.1\n",
      "pandas                2.0.3\n",
      "parso                 0.8.3\n",
      "pexpect               4.8.0\n",
      "pickleshare           0.7.5\n",
      "pillow                10.2.0\n",
      "pip                   24.0\n",
      "platformdirs          3.10.0\n",
      "prompt-toolkit        3.0.43\n",
      "protobuf              4.25.3\n",
      "protobuf3-to-dict     0.1.5\n",
      "psutil                5.9.0\n",
      "ptyprocess            0.7.0\n",
      "pure-eval             0.2.2\n",
      "Pygments              2.15.1\n",
      "pyinstrument          4.6.2\n",
      "pyparsing             3.1.1\n",
      "python-dateutil       2.8.2\n",
      "pytz                  2024.1\n",
      "pyzmq                 25.1.2\n",
      "rdkit                 2022.9.5\n",
      "requests              2.31.0\n",
      "s3transfer            0.10.0\n",
      "sagemaker             2.29.0\n",
      "sagemaker-experiments 0.1.26\n",
      "scikit-learn          1.2.2\n",
      "scipy                 1.10.1\n",
      "seaborn               0.10.0\n",
      "setuptools            68.2.2\n",
      "six                   1.16.0\n",
      "smdebug               1.0.1\n",
      "smdebug-rulesconfig   1.0.1\n",
      "stack-data            0.2.0\n",
      "threadpoolctl         3.3.0\n",
      "torch                 1.12.1\n",
      "tornado               6.3.3\n",
      "tqdm                  4.66.2\n",
      "traitlets             5.7.1\n",
      "typing_extensions     4.9.0\n",
      "tzdata                2024.1\n",
      "urllib3               1.26.18\n",
      "wcwidth               0.2.5\n",
      "wheel                 0.41.2\n",
      "widgetsnbextension    4.0.5\n",
      "wrapt                 1.16.0\n",
      "zipp                  3.17.0\n"
     ]
    }
   ],
   "source": [
    "!pip list"
   ]
  },
  {
   "cell_type": "code",
   "execution_count": 39,
   "metadata": {},
   "outputs": [],
   "source": [
    "setup_dependencies_passed = True"
   ]
  },
  {
   "cell_type": "code",
   "execution_count": 40,
   "metadata": {},
   "outputs": [
    {
     "name": "stdout",
     "output_type": "stream",
     "text": [
      "Stored 'setup_dependencies_passed' (bool)\n"
     ]
    }
   ],
   "source": [
    "%store setup_dependencies_passed"
   ]
  },
  {
   "cell_type": "code",
   "execution_count": 41,
   "metadata": {},
   "outputs": [
    {
     "name": "stdout",
     "output_type": "stream",
     "text": [
      "Stored variables and their in-db values:\n",
      "comprehend_train_s3_uri                -> 's3://sagemaker-us-east-1-891376948392/data/amazon\n",
      "forecast_dataset_arn                   -> 'arn:aws:forecast:us-east-1:891376948392:dataset/u\n",
      "forecast_dataset_group_arn             -> 'arn:aws:forecast:us-east-1:891376948392:dataset-g\n",
      "forecast_project_name                  -> 'util_power_forecast'\n",
      "forecast_role_name                     -> 'ForecastNotebookRole'\n",
      "setup_dependencies_passed              -> True\n",
      "setup_s3_bucket_passed                 -> True\n"
     ]
    }
   ],
   "source": [
    "%store"
   ]
  },
  {
   "cell_type": "markdown",
   "metadata": {},
   "source": [
    "# Release Resources"
   ]
  },
  {
   "cell_type": "code",
   "execution_count": 42,
   "metadata": {},
   "outputs": [
    {
     "data": {
      "text/html": [
       "\n",
       "<p><b>Shutting down your kernel for this notebook to release resources.</b></p>\n",
       "<button class=\"sm-command-button\" data-commandlinker-command=\"kernelmenu:shutdown\" style=\"display:none;\">Shutdown Kernel</button>\n",
       "        \n",
       "<script>\n",
       "try {\n",
       "    els = document.getElementsByClassName(\"sm-command-button\");\n",
       "    els[0].click();\n",
       "}\n",
       "catch(err) {\n",
       "    // NoOp\n",
       "}    \n",
       "</script>\n"
      ],
      "text/plain": [
       "<IPython.core.display.HTML object>"
      ]
     },
     "metadata": {},
     "output_type": "display_data"
    }
   ],
   "source": [
    "%%html\n",
    "\n",
    "<p><b>Shutting down your kernel for this notebook to release resources.</b></p>\n",
    "<button class=\"sm-command-button\" data-commandlinker-command=\"kernelmenu:shutdown\" style=\"display:none;\">Shutdown Kernel</button>\n",
    "        \n",
    "<script>\n",
    "try {\n",
    "    els = document.getElementsByClassName(\"sm-command-button\");\n",
    "    els[0].click();\n",
    "}\n",
    "catch(err) {\n",
    "    // NoOp\n",
    "}    \n",
    "</script>"
   ]
  },
  {
   "cell_type": "code",
   "execution_count": 43,
   "metadata": {},
   "outputs": [
    {
     "data": {
      "application/javascript": "\ntry {\n    Jupyter.notebook.save_checkpoint();\n    Jupyter.notebook.session.delete();\n}\ncatch(err) {\n    // NoOp\n}\n",
      "text/plain": [
       "<IPython.core.display.Javascript object>"
      ]
     },
     "metadata": {},
     "output_type": "display_data"
    }
   ],
   "source": [
    "%%javascript\n",
    "\n",
    "try {\n",
    "    Jupyter.notebook.save_checkpoint();\n",
    "    Jupyter.notebook.session.delete();\n",
    "}\n",
    "catch(err) {\n",
    "    // NoOp\n",
    "}"
   ]
  }
 ],
 "metadata": {
  "kernelspec": {
   "display_name": "solub_net_env",
   "language": "python",
   "name": "python3"
  },
  "language_info": {
   "codemirror_mode": {
    "name": "ipython",
    "version": 3
   },
   "file_extension": ".py",
   "mimetype": "text/x-python",
   "name": "python",
   "nbconvert_exporter": "python",
   "pygments_lexer": "ipython3",
   "version": "3.8.18"
  }
 },
 "nbformat": 4,
 "nbformat_minor": 2
}
